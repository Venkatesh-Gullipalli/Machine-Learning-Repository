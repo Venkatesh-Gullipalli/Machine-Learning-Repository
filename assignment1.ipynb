{
 "cells": [
  {
   "cell_type": "markdown",
   "id": "ce403ea9",
   "metadata": {},
   "source": [
    "# Question 1"
   ]
  },
  {
   "cell_type": "code",
   "execution_count": null,
   "id": "1d449f7d",
   "metadata": {},
   "outputs": [],
   "source": [
    "#==>\"function to find factorial of number\"\n",
    "def fact(num):\n",
    "    final_product=1\n",
    "    while num>0:\n",
    "        final_product=final_product*num\n",
    "        num=num-1\n",
    "    return final_product\n",
    "\n",
    "num=int(input(\"enter number: \"))\n",
    "print(fact(num))"
   ]
  },
  {
   "cell_type": "markdown",
   "id": "0f8cd075",
   "metadata": {},
   "source": [
    "# Question 2"
   ]
  },
  {
   "cell_type": "code",
   "execution_count": null,
   "id": "c1e11070",
   "metadata": {},
   "outputs": [],
   "source": [
    "#==>\"here in the question case sensitive matters\"\n",
    "\n",
    "#==>\"input argument code\"\n",
    "name=input(\"enter the name of the person: \")\n",
    "\n",
    "#==>\"following code\"\n",
    "if name==\"Darth Vader\":\n",
    "    print(\"Luke, I am your father.\")\n",
    "elif name==\"Leia\":\n",
    "    print(\"Luke, I am your sister.\")\n",
    "elif name==\"Han\":\n",
    "    print(\"Luke, I am your brother in law.\")\n",
    "elif name==\"R2D2\":\n",
    "    print(\"Luke, I am your droid.\")\n",
    "else:\n",
    "    print(\"please enter word with case sensitive\")\n",
    "        "
   ]
  },
  {
   "cell_type": "markdown",
   "id": "99003105",
   "metadata": {},
   "source": [
    "# Question 3"
   ]
  },
  {
   "cell_type": "code",
   "execution_count": null,
   "id": "1b94f84b",
   "metadata": {},
   "outputs": [],
   "source": [
    "#==>\"function to calculate no of digits\"\n",
    "def number_of_digits(num):\n",
    "    num=str(num)\n",
    "    s=0\n",
    "    for i in num:\n",
    "        s=s+1\n",
    "    return s\n",
    "\n",
    "#==>\"input argument\"\n",
    "num=int(input(\"please enter number in digit format: \"))\n",
    "print(number_of_digits(num))"
   ]
  },
  {
   "cell_type": "markdown",
   "id": "c37039ab",
   "metadata": {},
   "source": [
    "# Question 4"
   ]
  },
  {
   "cell_type": "code",
   "execution_count": null,
   "id": "e444bf70",
   "metadata": {},
   "outputs": [],
   "source": [
    "#==>mof==\"multiplication of factorial\"\n",
    "def mof(num):\n",
    "    fproduct=1\n",
    "    while num>0:\n",
    "        sub=num\n",
    "        product=1\n",
    "        while sub>0:\n",
    "            product=product*sub\n",
    "            sub=sub-1\n",
    "        fproduct=fproduct*product\n",
    "        num=num-1\n",
    "    return fproduct\n",
    "\n",
    "#==>\"input argument\"\n",
    "num=int(input(\"enter number: \"))\n",
    "\n",
    "#==>\"function calling\"\n",
    "if num>0:\n",
    "    print(mof(num))\n",
    "else:\n",
    "    print(\"enter positive numeric integer only\")"
   ]
  },
  {
   "cell_type": "markdown",
   "id": "de6d7f02",
   "metadata": {},
   "source": [
    "# Question 5(Method 1)"
   ]
  },
  {
   "cell_type": "code",
   "execution_count": null,
   "id": "339100ce",
   "metadata": {},
   "outputs": [],
   "source": [
    "#==>\"depending on the input we can approach the problem in different ways this problem is by assuming any number of arguments\"\n",
    "i=2\n",
    "b=list()\n",
    "print(\"please enter numbers by hitting enter for each number entered\")\n",
    "print(\"After entering all arguements, Please type [n] to terminate input\")\n",
    "while i>0:\n",
    "    c=input()\n",
    "    if c==\"n\":\n",
    "        break\n",
    "    else:\n",
    "        b.append(float(c))\n",
    "s=0\n",
    "for i in b:\n",
    "    s=s+(i*i)\n",
    "print(s)\n",
    "    \n",
    "        \n",
    "        \n",
    "    "
   ]
  },
  {
   "cell_type": "markdown",
   "id": "0354429a",
   "metadata": {},
   "source": [
    "# Question 5(Method 2)"
   ]
  },
  {
   "cell_type": "code",
   "execution_count": null,
   "id": "58404cf6",
   "metadata": {},
   "outputs": [],
   "source": [
    "a=input(\"please enter numbers with space provides between them: \").split()\n",
    "s=0\n",
    "for i in a:\n",
    "    i=float(i)\n",
    "    s=s+(i*i)\n",
    "print(s)"
   ]
  },
  {
   "cell_type": "markdown",
   "id": "4078e322",
   "metadata": {},
   "source": [
    "# Question 6"
   ]
  },
  {
   "cell_type": "code",
   "execution_count": null,
   "id": "aac36af1",
   "metadata": {},
   "outputs": [],
   "source": [
    "#==>\"Function code for operation\"\n",
    "def oper(num1,num2,operation):\n",
    "    if operation==\"+\":\n",
    "        a=num1+num2\n",
    "    elif operation==\"*\":\n",
    "        a=num1*num2\n",
    "    elif operation==\"-\":\n",
    "        a=num1-num2\n",
    "    elif operation==\"/\":\n",
    "        a=num1/num2\n",
    "    else:\n",
    "        print(\"enter correct operation\")\n",
    "    return a\n",
    "\n",
    "#==>\"input argument code\"\n",
    "num1=int(input(\"enter number_1: \"))\n",
    "num2=int(input(\"enter number_2: \"))\n",
    "operation=input(\"enter operation: \")\n",
    "print(oper(num1,num2,operation))\n"
   ]
  },
  {
   "cell_type": "markdown",
   "id": "41ea19fd",
   "metadata": {},
   "source": [
    "# Question 7"
   ]
  },
  {
   "cell_type": "code",
   "execution_count": null,
   "id": "fbaecd98",
   "metadata": {},
   "outputs": [],
   "source": [
    "#==>\"function to print a statement\"\n",
    "def out(n):\n",
    "    i=1\n",
    "    final=\"\"\n",
    "    while i<=n:\n",
    "        a=\"I CAN\"\n",
    "        b=\"I WILL\"\n",
    "        if i==1:\n",
    "            final=a\n",
    "        elif i%2==0:\n",
    "            final=final+\",\"+b\n",
    "        else:\n",
    "            final=final+\",\"+a\n",
    "        i=i+1\n",
    "    return final\n",
    "\n",
    "#==>\"input code\"\n",
    "n=int(input(\"enter number \"))\n",
    "print(out(n))\n",
    "\n"
   ]
  },
  {
   "cell_type": "markdown",
   "id": "05795224",
   "metadata": {},
   "source": [
    "# Question 8"
   ]
  },
  {
   "cell_type": "code",
   "execution_count": null,
   "id": "d7bfbb55",
   "metadata": {},
   "outputs": [],
   "source": [
    "def matching_pair(b):\n",
    "    c=max(b)        #==>\"highest number of color glove in the list\"\n",
    "    d=[]            #==>\"list of color codes in order\"\n",
    "    for i in range(c):\n",
    "        d.append(i+1)\n",
    "    e=[]            #==>\"e is list of total count of color gloves\" \n",
    "    for i in d:     #==>\"loop is for counting color gloves\"\n",
    "        e.append(b.count(i))\n",
    "    f=[]\n",
    "    for i in d:     #==>\"assigning pair\"\n",
    "        f.append(e[i-1]//2)\n",
    "    return sum(f)\n",
    "print(\"Please enter numbers in list format like below\")\n",
    "print(\"[a, b, c, ..]\")\n",
    "a=input()\n",
    "a=a[1:-1]\n",
    "a=a.split(\",\")\n",
    "b=[]            #==>\"list of color gloves given as input\"\n",
    "for i in a:\n",
    "    b.append(int(i))\n",
    "print(\"matching_pairs are:\", format(matching_pair(b)))\n"
   ]
  },
  {
   "cell_type": "markdown",
   "id": "f3870af4",
   "metadata": {},
   "source": [
    "# Question 9"
   ]
  },
  {
   "cell_type": "code",
   "execution_count": null,
   "id": "2181feef",
   "metadata": {},
   "outputs": [],
   "source": [
    "#==>\"based on two conditions input list is unique and can be of any order\"\n",
    "#==>\"arrays are basically homogeneous items so only integers are considered\"\n",
    "\n",
    "\n",
    "print(\"Please enter numbers in list format like below\")\n",
    "print(\"[a, b, c, ..]\")\n",
    "\n",
    "#==>\"function code\"\n",
    "def con_seq(l1,l2):\n",
    "    lf=l1+l2\n",
    "    highest_num=max(lf)\n",
    "    lowest_num=min(lf)\n",
    "    count=0\n",
    "    for i in range(lowest_num-1,highest_num):\n",
    "        if i+1 in lf:\n",
    "            count=count+1\n",
    "    if (highest_num-lowest_num+1)==count:\n",
    "        return True\n",
    "    else:\n",
    "        return False\n",
    "\n",
    "#==>\"input argument code\"\n",
    "first=input(\"enter first array: \").strip()\n",
    "second=input(\"enter second array: \").strip()\n",
    "\n",
    "#==>\"converted string in to list\"\n",
    "l_1=first[1:-1]\n",
    "l_1=l_1.split(\",\")\n",
    "l_2=second[1:-1]\n",
    "l_2=l_2.split(\",\")\n",
    "l1=list()\n",
    "l2=list()\n",
    "\n",
    "#==>\"converted list in to array for the purpose of question\"\n",
    "from array import array\n",
    "for i in l_1:\n",
    "    l1.append(int(i))\n",
    "for i in l_2:\n",
    "    l2.append(int(i))\n",
    "l1=array(\"i\",l1)\n",
    "l2=array(\"i\",l2)\n",
    "\n",
    "#==>\"called the function for consecutive_combo\"\n",
    "con_seq(l1,l2)\n",
    "    \n"
   ]
  },
  {
   "cell_type": "markdown",
   "id": "403c5d68",
   "metadata": {},
   "source": [
    "# Question 10"
   ]
  },
  {
   "cell_type": "code",
   "execution_count": null,
   "id": "837cbc1b",
   "metadata": {},
   "outputs": [],
   "source": [
    "#==>\"Function to calculate profit\"\n",
    "def profit(a,b,c):                      \n",
    "    profit=round((b*c)-(a*c))\n",
    "    return profit\n",
    "print(\"Please enter input in dictionary format like below: \")\n",
    "print(\"{\"+\"cost_price\"+\": a,\"+\"sell_price\"+\": b,\"+\"inventory\"+\": c}\")\n",
    "\n",
    "#==>\"input code\"\n",
    "pr=input()\n",
    "pr1=pr[1:-1]\n",
    "pr2=pr1.split(\",\")\n",
    "prof=[]\n",
    "prof2=[]\n",
    "values=[]\n",
    "\n",
    "#==>\"converted string in to list\"\n",
    "for i in pr2:\n",
    "    prof.append(i.split(\":\"))\n",
    "for i in prof:\n",
    "    for j in i:\n",
    "        prof2.append(j.strip())\n",
    "s=1\n",
    "for i in prof2:\n",
    "    if s%2==0:\n",
    "        values.append(float(i))\n",
    "    s=s+1\n",
    "c_p=values[0]\n",
    "s_p=values[1]\n",
    "invent=values[2]\n",
    "\n",
    "#==>\"called the function profit\"\n",
    "print(\"Profit in dollars: {0} \".format(profit(c_p,s_p,invent)))\n",
    "        \n",
    "\n"
   ]
  },
  {
   "cell_type": "code",
   "execution_count": null,
   "id": "1af93302",
   "metadata": {},
   "outputs": [],
   "source": []
  }
 ],
 "metadata": {
  "kernelspec": {
   "display_name": "Python 3",
   "language": "python",
   "name": "python3"
  },
  "language_info": {
   "codemirror_mode": {
    "name": "ipython",
    "version": 3
   },
   "file_extension": ".py",
   "mimetype": "text/x-python",
   "name": "python",
   "nbconvert_exporter": "python",
   "pygments_lexer": "ipython3",
   "version": "3.8.8"
  }
 },
 "nbformat": 4,
 "nbformat_minor": 5
}
